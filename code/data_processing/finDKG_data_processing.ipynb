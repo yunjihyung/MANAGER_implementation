{
 "cells": [
  {
   "cell_type": "code",
   "execution_count": 71,
   "metadata": {},
   "outputs": [
    {
     "name": "stdout",
     "output_type": "stream",
     "text": [
      "(13645, 4)\n",
      "(15, 2)\n",
      "(261, 2)\n",
      "(222732, 4)\n",
      "(10013, 4)\n",
      "(9404, 4)\n"
     ]
    }
   ],
   "source": [
    "import pandas as pd\n",
    "entity_column_names = ['entity','e_id','label','l_id'] \n",
    "entity_df =pd.read_csv(r'..\\..\\dataset\\finDKGdata\\entity2id.txt',sep = \"\\t\",header = None,names = entity_column_names)\n",
    "\n",
    "relation_column_names = ['relation','id'] \n",
    "relation_df =pd.read_csv(r'..\\..\\dataset\\finDKGdata\\relation2id.txt',sep = \"\\t\",header = None,names =relation_column_names)\n",
    "\n",
    "time_df = pd.read_csv(r'..\\..\\dataset\\finDKGdata\\time2id.txt')\n",
    "\n",
    "data_column_names = ['subject', 'relation', 'object','time']\n",
    "train = pd.read_csv(r'..\\..\\dataset\\finDKGdata\\train.txt',sep='\\t',header = None,names =data_column_names, usecols=[0, 1, 2, 3])\n",
    "valid = pd.read_csv(r'..\\..\\dataset\\finDKGdata\\valid.txt',sep='\\t',header = None,names =data_column_names, usecols=[0, 1, 2, 3])\n",
    "test = pd.read_csv(r'..\\..\\dataset\\finDKGdata\\test.txt',sep='\\t',header = None,names =data_column_names, usecols=[0, 1, 2, 3])\n",
    "\n",
    "print(entity_df.shape)\n",
    "print(relation_df.shape)\n",
    "print(time_df.shape)\n",
    "print(train.shape)\n",
    "print(test.shape)\n",
    "print(valid.shape)\n"
   ]
  },
  {
   "cell_type": "code",
   "execution_count": 72,
   "metadata": {},
   "outputs": [
    {
     "data": {
      "text/plain": [
       "<Axes: xlabel='label'>"
      ]
     },
     "execution_count": 72,
     "metadata": {},
     "output_type": "execute_result"
    },
    {
     "data": {
      "image/png": "[encoded data removed]",
      "text/plain": [
       "<Figure size 640x480 with 1 Axes>"
      ]
     },
     "metadata": {},
     "output_type": "display_data"
    }
   ],
   "source": [
    "entity_df['label'].value_counts().plot.bar()"
   ]
  },
  {
   "cell_type": "code",
   "execution_count": 73,
   "metadata": {},
   "outputs": [
    {
     "name": "stdout",
     "output_type": "stream",
     "text": [
      "[  0   1   2   3   4   5   6   7   8   9  10  11  12  13  14  15  16  17\n",
      "  18  19  20  21  22  23  24  25  26  27  28  29  30  31  32  33  34  35\n",
      "  36  37  38  39  40  41  42  43  44  45  46  47  48  49  50  51  52  53\n",
      "  54  55  56  57  58  59  60  61  62  63  64  65  66  67  68  69  70  71\n",
      "  72  73  74  75  76  77  78  79  80  81  82  83  84  85  86  87  88  89\n",
      "  90  91  92  93  94  95  96  97  98  99 100 101 102 103 104 105 106 107\n",
      " 108 109 110 111 112 113 114 115 116 117 118 119 120 121 122 123 124 125\n",
      " 126 127 128 129 130 131 132 133 134 135 136 137 138 139 140 141 142 143\n",
      " 144 145 146 147 148 149 150 151 152 153 154 155 156 157 158 159 160 161\n",
      " 162 163 164 165 166 167 168 169 170 171 172 173 174 175 176 177 178 179\n",
      " 180 181 182 183 184 185 186 187 188 189 190 191 192 193 194 195 196 197\n",
      " 198 199 200 201 202 203 204 205 206 207 208 209 210 211 212 213 214 215\n",
      " 216 217 218 219 220 221 222 223 224 225 226 227 228 229 230 231 232 233]\n",
      "==============================\n",
      "[247 248 249 250 251 252 253 254 255 256 257 258 259 260]\n",
      "==============================\n",
      "[234 235 236 237 238 239 240 241 242 243 244 245 246]\n"
     ]
    }
   ],
   "source": [
    "print(train['time'].unique())\n",
    "print('==============================')\n",
    "print(test['time'].unique())\n",
    "print('==============================')\n",
    "print(valid['time'].unique())"
   ]
  },
  {
   "cell_type": "markdown",
   "metadata": {},
   "source": [
    "# merge"
   ]
  },
  {
   "cell_type": "code",
   "execution_count": 74,
   "metadata": {},
   "outputs": [
    {
     "name": "stdout",
     "output_type": "stream",
     "text": [
      "(242149, 4)\n",
      "(13645, 2)\n"
     ]
    },
    {
     "name": "stderr",
     "output_type": "stream",
     "text": [
      "C:\\Users\\yunji\\AppData\\Local\\Temp\\ipykernel_14672\\3266193847.py:6: SettingWithCopyWarning: \n",
      "A value is trying to be set on a copy of a slice from a DataFrame.\n",
      "Try using .loc[row_indexer,col_indexer] = value instead\n",
      "\n",
      "See the caveats in the documentation: https://pandas.pydata.org/pandas-docs/stable/user_guide/indexing.html#returning-a-view-versus-a-copy\n",
      "  entity['entity'] = entity['entity'].str.lower()\n",
      "C:\\Users\\yunji\\AppData\\Local\\Temp\\ipykernel_14672\\3266193847.py:7: SettingWithCopyWarning: \n",
      "A value is trying to be set on a copy of a slice from a DataFrame.\n",
      "Try using .loc[row_indexer,col_indexer] = value instead\n",
      "\n",
      "See the caveats in the documentation: https://pandas.pydata.org/pandas-docs/stable/user_guide/indexing.html#returning-a-view-versus-a-copy\n",
      "  entity['label'] = entity['label'].str.lower()\n"
     ]
    }
   ],
   "source": [
    "d_relation = relation_df['relation'].str.lower().to_dict()\n",
    "d_entity = entity_df['entity'].str.lower().to_dict()\n",
    "d_time = time_df['DATE_WK'].to_dict()\n",
    "finDKG = pd.concat([train,valid,test])\n",
    "entity = entity_df[['entity','label']]\n",
    "entity['entity'] = entity['entity'].str.lower()\n",
    "entity['label'] = entity['label'].str.lower()\n",
    "print(finDKG.shape)\n",
    "print(entity.shape)"
   ]
  },
  {
   "cell_type": "code",
   "execution_count": 75,
   "metadata": {},
   "outputs": [
    {
     "name": "stdout",
     "output_type": "stream",
     "text": [
      "0\n",
      "18166\n"
     ]
    }
   ],
   "source": [
    "print(entity.duplicated().sum())\n",
    "print(finDKG.duplicated().sum())"
   ]
  },
  {
   "cell_type": "code",
   "execution_count": 76,
   "metadata": {},
   "outputs": [],
   "source": [
    "# 중복행 제거\n",
    "finDKG.drop_duplicates(inplace=True)"
   ]
  },
  {
   "cell_type": "code",
   "execution_count": 77,
   "metadata": {},
   "outputs": [
    {
     "name": "stdout",
     "output_type": "stream",
     "text": [
      "(223983, 4)\n"
     ]
    }
   ],
   "source": [
    "print(finDKG.shape)"
   ]
  },
  {
   "cell_type": "code",
   "execution_count": 78,
   "metadata": {},
   "outputs": [
    {
     "data": {
      "text/html": [
       "<div>\n",
       "<style scoped>\n",
       "    .dataframe tbody tr th:only-of-type {\n",
       "        vertical-align: middle;\n",
       "    }\n",
       "\n",
       "    .dataframe tbody tr th {\n",
       "        vertical-align: top;\n",
       "    }\n",
       "\n",
       "    .dataframe thead th {\n",
       "        text-align: right;\n",
       "    }\n",
       "</style>\n",
       "<table border=\"1\" class=\"dataframe\">\n",
       "  <thead>\n",
       "    <tr style=\"text-align: right;\">\n",
       "      <th></th>\n",
       "      <th>entity</th>\n",
       "      <th>label</th>\n",
       "    </tr>\n",
       "  </thead>\n",
       "  <tbody>\n",
       "    <tr>\n",
       "      <th>0</th>\n",
       "      <td>donald trump</td>\n",
       "      <td>person</td>\n",
       "    </tr>\n",
       "    <tr>\n",
       "      <th>1</th>\n",
       "      <td>united states</td>\n",
       "      <td>gpe</td>\n",
       "    </tr>\n",
       "    <tr>\n",
       "      <th>2</th>\n",
       "      <td>china</td>\n",
       "      <td>gpe</td>\n",
       "    </tr>\n",
       "    <tr>\n",
       "      <th>3</th>\n",
       "      <td>u.s. federal reserve</td>\n",
       "      <td>org/reg</td>\n",
       "    </tr>\n",
       "    <tr>\n",
       "      <th>4</th>\n",
       "      <td>joe biden</td>\n",
       "      <td>person</td>\n",
       "    </tr>\n",
       "    <tr>\n",
       "      <th>...</th>\n",
       "      <td>...</td>\n",
       "      <td>...</td>\n",
       "    </tr>\n",
       "    <tr>\n",
       "      <th>13640</th>\n",
       "      <td>market dynamics</td>\n",
       "      <td>econ_indicator</td>\n",
       "    </tr>\n",
       "    <tr>\n",
       "      <th>13641</th>\n",
       "      <td>risky investments</td>\n",
       "      <td>concept</td>\n",
       "    </tr>\n",
       "    <tr>\n",
       "      <th>13642</th>\n",
       "      <td>legal</td>\n",
       "      <td>concept</td>\n",
       "    </tr>\n",
       "    <tr>\n",
       "      <th>13643</th>\n",
       "      <td>market data</td>\n",
       "      <td>econ_indicator</td>\n",
       "    </tr>\n",
       "    <tr>\n",
       "      <th>13644</th>\n",
       "      <td>rising home prices</td>\n",
       "      <td>econ_indicator</td>\n",
       "    </tr>\n",
       "  </tbody>\n",
       "</table>\n",
       "<p>13645 rows × 2 columns</p>\n",
       "</div>"
      ],
      "text/plain": [
       "                     entity           label\n",
       "0              donald trump          person\n",
       "1             united states             gpe\n",
       "2                     china             gpe\n",
       "3      u.s. federal reserve         org/reg\n",
       "4                 joe biden          person\n",
       "...                     ...             ...\n",
       "13640       market dynamics  econ_indicator\n",
       "13641     risky investments         concept\n",
       "13642                 legal         concept\n",
       "13643           market data  econ_indicator\n",
       "13644    rising home prices  econ_indicator\n",
       "\n",
       "[13645 rows x 2 columns]"
      ]
     },
     "execution_count": 78,
     "metadata": {},
     "output_type": "execute_result"
    }
   ],
   "source": [
    "entity"
   ]
  },
  {
   "cell_type": "code",
   "execution_count": 79,
   "metadata": {},
   "outputs": [],
   "source": [
    "finDKG['subject'] = finDKG['subject'].map(d_entity)\n",
    "finDKG['object'] = finDKG['object'].map(d_entity)\n",
    "finDKG['relation'] = finDKG['relation'].map(d_relation)\n",
    "finDKG['time'] = finDKG['time'].map(d_time)"
   ]
  },
  {
   "cell_type": "code",
   "execution_count": 80,
   "metadata": {},
   "outputs": [
    {
     "data": {
      "text/html": [
       "<div>\n",
       "<style scoped>\n",
       "    .dataframe tbody tr th:only-of-type {\n",
       "        vertical-align: middle;\n",
       "    }\n",
       "\n",
       "    .dataframe tbody tr th {\n",
       "        vertical-align: top;\n",
       "    }\n",
       "\n",
       "    .dataframe thead th {\n",
       "        text-align: right;\n",
       "    }\n",
       "</style>\n",
       "<table border=\"1\" class=\"dataframe\">\n",
       "  <thead>\n",
       "    <tr style=\"text-align: right;\">\n",
       "      <th></th>\n",
       "      <th>subject</th>\n",
       "      <th>relation</th>\n",
       "      <th>object</th>\n",
       "      <th>time</th>\n",
       "    </tr>\n",
       "  </thead>\n",
       "  <tbody>\n",
       "    <tr>\n",
       "      <th>0</th>\n",
       "      <td>president trump administration</td>\n",
       "      <td>control</td>\n",
       "      <td>volcker rule</td>\n",
       "      <td>2018-01-07</td>\n",
       "    </tr>\n",
       "    <tr>\n",
       "      <th>1</th>\n",
       "      <td>wells fargo co.</td>\n",
       "      <td>impact</td>\n",
       "      <td>u.s. federal reserve</td>\n",
       "      <td>2018-01-07</td>\n",
       "    </tr>\n",
       "    <tr>\n",
       "      <th>2</th>\n",
       "      <td>australia</td>\n",
       "      <td>participates_in</td>\n",
       "      <td>s&amp;p/asx 200</td>\n",
       "      <td>2018-01-07</td>\n",
       "    </tr>\n",
       "    <tr>\n",
       "      <th>3</th>\n",
       "      <td>manufacturing</td>\n",
       "      <td>relate_to</td>\n",
       "      <td>economic indicator</td>\n",
       "      <td>2018-01-07</td>\n",
       "    </tr>\n",
       "    <tr>\n",
       "      <th>4</th>\n",
       "      <td>united states</td>\n",
       "      <td>operate_in</td>\n",
       "      <td>oil market</td>\n",
       "      <td>2018-01-07</td>\n",
       "    </tr>\n",
       "    <tr>\n",
       "      <th>...</th>\n",
       "      <td>...</td>\n",
       "      <td>...</td>\n",
       "      <td>...</td>\n",
       "      <td>...</td>\n",
       "    </tr>\n",
       "    <tr>\n",
       "      <th>10008</th>\n",
       "      <td>pope francis</td>\n",
       "      <td>relate_to</td>\n",
       "      <td>catholic church</td>\n",
       "      <td>2023-01-01</td>\n",
       "    </tr>\n",
       "    <tr>\n",
       "      <th>10009</th>\n",
       "      <td>u.s. dollar</td>\n",
       "      <td>control</td>\n",
       "      <td>global economy</td>\n",
       "      <td>2023-01-01</td>\n",
       "    </tr>\n",
       "    <tr>\n",
       "      <th>10010</th>\n",
       "      <td>u.s. federal reserve</td>\n",
       "      <td>control</td>\n",
       "      <td>inflation</td>\n",
       "      <td>2023-01-01</td>\n",
       "    </tr>\n",
       "    <tr>\n",
       "      <th>10011</th>\n",
       "      <td>energy prices</td>\n",
       "      <td>impact</td>\n",
       "      <td>inflation pressures</td>\n",
       "      <td>2023-01-01</td>\n",
       "    </tr>\n",
       "    <tr>\n",
       "      <th>10012</th>\n",
       "      <td>russia</td>\n",
       "      <td>relate_to</td>\n",
       "      <td>inflation rise</td>\n",
       "      <td>2023-01-01</td>\n",
       "    </tr>\n",
       "  </tbody>\n",
       "</table>\n",
       "<p>223983 rows × 4 columns</p>\n",
       "</div>"
      ],
      "text/plain": [
       "                              subject         relation                object  \\\n",
       "0      president trump administration          control          volcker rule   \n",
       "1                     wells fargo co.           impact  u.s. federal reserve   \n",
       "2                           australia  participates_in           s&p/asx 200   \n",
       "3                       manufacturing        relate_to    economic indicator   \n",
       "4                       united states       operate_in            oil market   \n",
       "...                               ...              ...                   ...   \n",
       "10008                    pope francis        relate_to       catholic church   \n",
       "10009                     u.s. dollar          control        global economy   \n",
       "10010            u.s. federal reserve          control             inflation   \n",
       "10011                   energy prices           impact   inflation pressures   \n",
       "10012                          russia        relate_to        inflation rise   \n",
       "\n",
       "             time  \n",
       "0      2018-01-07  \n",
       "1      2018-01-07  \n",
       "2      2018-01-07  \n",
       "3      2018-01-07  \n",
       "4      2018-01-07  \n",
       "...           ...  \n",
       "10008  2023-01-01  \n",
       "10009  2023-01-01  \n",
       "10010  2023-01-01  \n",
       "10011  2023-01-01  \n",
       "10012  2023-01-01  \n",
       "\n",
       "[223983 rows x 4 columns]"
      ]
     },
     "execution_count": 80,
     "metadata": {},
     "output_type": "execute_result"
    }
   ],
   "source": [
    "finDKG"
   ]
  },
  {
   "cell_type": "code",
   "execution_count": 81,
   "metadata": {},
   "outputs": [],
   "source": [
    "entity.to_csv('entity.csv',index = False)\n",
    "finDKG.to_csv('finDKG.csv',index = False)"
   ]
  },
  {
   "cell_type": "markdown",
   "metadata": {},
   "source": [
    "# neo4j에 밑이 cypher로 저장합니다"
   ]
  },
  {
   "cell_type": "code",
   "execution_count": null,
   "metadata": {},
   "outputs": [],
   "source": [
    "# LOAD CSV WITH HEADERS FROM \"file:///entity.csv\" AS row\n",
    "# MERGE (n:Entity {name: row.entity})\n",
    "# SET n.label = row.label;"
   ]
  },
  {
   "cell_type": "code",
   "execution_count": null,
   "metadata": {},
   "outputs": [],
   "source": [
    "# LOAD CSV WITH HEADERS FROM \"file:///finDKG.csv\" AS row\n",
    "# MATCH (s:Entity {name: row.subject})\n",
    "# MATCH (o:Entity {name: row.object})\n",
    "# MERGE (s)-[r:RELATED {relation: row.relation, time: row.time}]->(o)"
   ]
  },
  {
   "cell_type": "code",
   "execution_count": null,
   "metadata": {},
   "outputs": [],
   "source": []
  }
 ],
 "metadata": {
  "kernelspec": {
   "display_name": "Python 3",
   "language": "python",
   "name": "python3"
  },
  "language_info": {
   "codemirror_mode": {
    "name": "ipython",
    "version": 3
   },
   "file_extension": ".py",
   "mimetype": "text/x-python",
   "name": "python",
   "nbconvert_exporter": "python",
   "pygments_lexer": "ipython3",
   "version": "3.12.1"
  }
 },
 "nbformat": 4,
 "nbformat_minor": 2
}
